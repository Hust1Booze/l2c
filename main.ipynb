{
 "cells": [
  {
   "cell_type": "code",
   "execution_count": 56,
   "id": "a9bc3535",
   "metadata": {
    "scrolled": true
   },
   "outputs": [
    {
     "name": "stdout",
     "output_type": "stream",
     "text": [
      "The autoreload extension is already loaded. To reload it, use:\n",
      "  %reload_ext autoreload\n",
      "75\n"
     ]
    }
   ],
   "source": [
    "%load_ext autoreload\n",
    "%autoreload 2\n",
    "%reload_ext autoreload\n",
    "\n",
    "import sys\n",
    "import os\n",
    "import re\n",
    "import numpy as np\n",
    "import torch\n",
    "from torch.multiprocessing import Process, set_start_method\n",
    "from functools import partial\n",
    "from utils import record_stats, display_stats, distribute\n",
    "from pathlib import Path \n",
    "\n",
    "    \n",
    "n_cpu = 16\n",
    "n_instance = -1\n",
    "nodesels =  ['expert_dummy', 'gnn_dummy_nprimal=2', 'ranknet_dummy_nprimal=2', 'svm_dummy_nprimal=2', 'estimate_dummy']\n",
    "nodesels =  ['expert_dummy', 'estimate_dummy']\n",
    "problem = 'WPMS'\n",
    "data_partition = 'transfer'\n",
    "\n",
    "normalize = True\n",
    "\n",
    "device = 'cuda' if torch.cuda.is_available() else 'cpu'\n",
    "verbose = True\n",
    "on_log = False\n",
    "default = True\n",
    "\n",
    "instances =  list(Path(os.path.join(os.path.abspath(''), \n",
    "                           f\"./problem_generation/data/{problem}/{data_partition}\")).glob(\"*.lp\"))\n",
    "\n",
    "print(len(instances))\n"
   ]
  },
  {
   "cell_type": "code",
   "execution_count": 57,
   "id": "3425efa0",
   "metadata": {},
   "outputs": [],
   "source": [
    "\n",
    "processes = [  Process(name=f\"worker {p}\", \n",
    "               target=partial(record_stats,\n",
    "                              nodesels=nodesels,\n",
    "                              instances=instances[p1:p2], \n",
    "                              problem=problem,\n",
    "                              device=torch.device(device),\n",
    "                              normalize=normalize,\n",
    "                              verbose=verbose,\n",
    "                              default=default))\n",
    "        for p,(p1,p2) in enumerate(distribute(n_instance, n_cpu)) ]  \n",
    "\n",
    "\n",
    "try:\n",
    "    set_start_method('spawn')\n",
    "except RuntimeError:\n",
    "    ''\n",
    "\n",
    "a = list(map(lambda p: p.start(), processes)) #run processes\n",
    "b = list(map(lambda p: p.join(), processes)) #join processes"
   ]
  },
  {
   "cell_type": "code",
   "execution_count": 59,
   "id": "ed9049ab",
   "metadata": {
    "scrolled": false
   },
   "outputs": [
    {
     "name": "stdout",
     "output_type": "stream",
     "text": [
      "BENCHMARK WPMS transfer\n",
      "======================================================\n",
      "Statistics on WPMS for problem size in [0, 0]\n",
      "======================================================\n",
      "  default \n",
      "      Mean over n=75 instances : \n",
      "        |- B&B Tree Size   :  357  ± 2\n",
      "        |- Solving Time    :  25.3  ± 1.7\n",
      "-------------------------------------------------\n",
      "  expert_dummy \n",
      "      Mean over n=75 instances : \n",
      "        |- B&B Tree Size   :  670  ± 3\n",
      "        |- Solving Time    :  23.8  ± 2.1\n",
      "        |- nodecomp calls  :  9122\n",
      "           |---   inference nodecomp calls:      29\n",
      "        |- nodesel calls   :  998\n",
      "-------------------------------------------------\n",
      "  estimate_dummy \n",
      "      Mean over n=75 instances : \n",
      "        |- B&B Tree Size   :  436  ± 2\n",
      "        |- Solving Time    :  29.0  ± 1.9\n",
      "        |- nodecomp calls  :  10483\n",
      "        |- nodesel calls   :  1000\n",
      "-------------------------------------------------\n"
     ]
    }
   ],
   "source": [
    "\n",
    "\n",
    "\n",
    "problems = [  'WPMS'  ]\n",
    "\n",
    "nodesels = [ 'expert_dummy', 'gnn_dummy_nprimal=2', 'ranknet_dummy_nprimal=2', 'svm_dummy_nprimal=2', 'estimate_dummy']\n",
    "nodesels =  ['expert_dummy', 'estimate_dummy']\n",
    "for d in ['transfer']:\n",
    "    for p in problems:\n",
    "\n",
    "        instances =  list(Path(os.path.join(os.path.abspath(''), \n",
    "                                   f\"./problem_generation/data/{p}/{d}\")).glob(\"*.lp\"))\n",
    "        print(f\"BENCHMARK {p} {d}\")\n",
    "        nnode_means = display_stats(p, nodesels, instances, 0, 0, default=True)\n",
    "        \n",
    "    "
   ]
  },
  {
   "cell_type": "code",
   "execution_count": 60,
   "id": "ba1a5290",
   "metadata": {},
   "outputs": [
    {
     "data": {
      "text/plain": [
       "19"
      ]
     },
     "execution_count": 60,
     "metadata": {},
     "output_type": "execute_result"
    },
    {
     "data": {
      "image/png": "[encoded data removed]",
      "text/plain": [
       "<Figure size 432x288 with 1 Axes>"
      ]
     },
     "metadata": {
      "needs_background": "light"
     },
     "output_type": "display_data"
    }
   ],
   "source": [
    "from matplotlib.pyplot import hist\n",
    "hist(nnode_means['expert_dummy'].values())\n",
    "hist(nnode_means['default'].values())\n",
    "\n",
    "ins_to_delete = []\n",
    "for ins in instances:\n",
    "    instance = str(ins)\n",
    "    try:\n",
    "        if nnode_means['estimate_dummy'][instance] < 250:\n",
    "            ins_to_delete.append(instance)\n",
    "    except:\n",
    "        ''\n",
    "\n",
    "len(ins_to_delete)"
   ]
  },
  {
   "cell_type": "code",
   "execution_count": 50,
   "id": "e19cf907",
   "metadata": {},
   "outputs": [],
   "source": [
    "for i in ins_to_delete:\n",
    "    os.remove(i)\n",
    "    os.remove(str(i).replace('.lp', '.sol'))"
   ]
  }
 ],
 "metadata": {
  "kernelspec": {
   "display_name": "Python 3 (ipykernel)",
   "language": "python",
   "name": "python3"
  },
  "language_info": {
   "codemirror_mode": {
    "name": "ipython",
    "version": 3
   },
   "file_extension": ".py",
   "mimetype": "text/x-python",
   "name": "python",
   "nbconvert_exporter": "python",
   "pygments_lexer": "ipython3",
   "version": "3.9.9"
  }
 },
 "nbformat": 4,
 "nbformat_minor": 5
}
