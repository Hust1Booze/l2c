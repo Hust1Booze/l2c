{
 "cells": [
  {
   "cell_type": "code",
   "execution_count": 10,
   "id": "b8cd9a57",
   "metadata": {},
   "outputs": [],
   "source": [
    "import sys\n",
    "import os\n",
    "import re\n",
    "import numpy as np\n",
    "import torch\n",
    "from torch.multiprocessing import Process, set_start_method\n",
    "from functools import partial\n",
    "from utils import record_stats, display_stats, distribute\n",
    "from pathlib import Path \n",
    "\n",
    "\n",
    "%load_ext autoreload\n",
    "%autoreload 2"
   ]
  },
  {
   "cell_type": "code",
   "execution_count": 19,
   "id": "7f18bdd4",
   "metadata": {},
   "outputs": [
    {
     "name": "stdout",
     "output_type": "stream",
     "text": [
      "Evaluation\n",
      "  Problem:                    FCMCNF\n",
      "  n_instance/problem:         12\n",
      "  Nodeselectors evaluated:    default,estimate_estimate,estimate_dummy,expert_dummy,gnn_dummy,svm_dummy\n",
      "  Device for GNN inference:   cuda\n",
      "  Normalize features:         True\n",
      "----------------\n"
     ]
    }
   ],
   "source": [
    "n_cpu = 12\n",
    "n_instance = 12\n",
    "nodesels = ['estimate_estimate', 'estimate_dummy', 'expert_dummy','gnn_dummy', 'svm_dummy']\n",
    "\n",
    "problem = \"FCMCNF\"\n",
    "normalize = True\n",
    "device = 'cuda' if torch.cuda.is_available() else 'cpu'\n",
    "verbose = True\n",
    "on_log = False\n",
    "default = True\n",
    "delete = True\n",
    "\n",
    "if delete:\n",
    "    try:\n",
    "        import shutil\n",
    "        shutil.rmtree(os.path.join(os.path.abspath(''), \n",
    "                                       f'stats/{problem}'))\n",
    "    except:\n",
    "        ''\n",
    "\n",
    "\n",
    "\n",
    "instances = list(Path(os.path.join(os.path.abspath(''), \n",
    "                                   f\"./problem_generation/data/{problem}/test\")).glob(\"*.lp\"))\n",
    "if n_instance == -1 :\n",
    "    n_instance = len(instances)\n",
    "\n",
    "instances = instances[:n_instance]\n",
    "\n",
    "print(\"Evaluation\")\n",
    "print(f\"  Problem:                    {problem}\")\n",
    "print(f\"  n_instance/problem:         {len(instances)}\")\n",
    "print(f\"  Nodeselectors evaluated:    {','.join( ['default' if default else '' ] + nodesels)}\")\n",
    "print(f\"  Device for GNN inference:   {device}\")\n",
    "print(f\"  Normalize features:         {normalize}\")\n",
    "print(\"----------------\")\n",
    "\n",
    "\n"
   ]
  },
  {
   "cell_type": "code",
   "execution_count": 16,
   "id": "45b751fb",
   "metadata": {},
   "outputs": [
    {
     "name": "stdout",
     "output_type": "stream",
     "text": [
      "<All keys matched successfully>\n",
      "<All keys matched successfully>\n",
      "<All keys matched successfully>\n",
      "<All keys matched successfully>\n",
      "<All keys matched successfully>\n",
      "<All keys matched successfully>\n",
      "<All keys matched successfully>\n",
      "<All keys matched successfully>\n",
      "<All keys matched successfully>\n",
      "<All keys matched successfully>\n",
      "<All keys matched successfully>\n",
      "<All keys matched successfully>\n",
      "======================================================\n",
      "Statistics on FCMCNF over 12 instances for problem size in [80, 98]\n",
      "======================================================\n",
      "  default, n=12 \n",
      "    Mean NNode Created   : 599.00\n",
      "    Mean Solving Time    : 16.91\n",
      "-------------------------------------------------\n",
      "  oracle, n=12 \n",
      "    Mean NNode Created   : 449.08\n",
      "    Mean Solving Time    : 16.80\n",
      "-------------------------------------------------\n",
      "  gnn_trained, n=12 \n",
      "    Mean NNode Created   : 862.25\n",
      "    Mean Solving Time    : 36.56\n",
      "     |---   Feature Extraction  Mean Time:      7.85\n",
      "     |---   Feature Normalization Mean Time:    0.25\n",
      "     |---   Inference Mean Time:                4.04\n",
      "     |---   Ncomp Mean:                         8550.83\n",
      "-------------------------------------------------\n"
     ]
    }
   ],
   "source": [
    "\n",
    "processes = [  Process(name=f\"worker {p}\", \n",
    "                                target=partial(record_stats,\n",
    "                                                nodesels=nodesels,\n",
    "                                                instances=instances[p1:p2], \n",
    "                                                problem=problem,\n",
    "                                                device=torch.device(device),\n",
    "                                                normalize=normalize,\n",
    "                                                verbose=verbose,\n",
    "                                                default=default))\n",
    "                for p,(p1,p2) in enumerate(distribute(n_instance, n_cpu)) ]  \n",
    "\n",
    "\n",
    "try:\n",
    "    set_start_method('spawn')\n",
    "except RuntimeError:\n",
    "    ''\n",
    "\n",
    "a = list(map(lambda p: p.start(), processes)) #run processes\n",
    "b = list(map(lambda p: p.join(), processes)) #join processes\n",
    "\n",
    "min_n = min([ int( str(instance).split('=')[2 if problem in ['FCMCNF'] else 1].split('_')[0] )  for instance in instances ] )\n",
    "max_n = max([ int( str(instance).split('=')[2 if problem in ['FCMCNF'] else 1].split('_')[0] )  for instance in instances ] )\n",
    "\n",
    "display_stats(problem, nodesels, instances, min_n, max_n, default=default)"
   ]
  }
 ],
 "metadata": {
  "kernelspec": {
   "display_name": "Python 3 (ipykernel)",
   "language": "python",
   "name": "python3"
  },
  "language_info": {
   "codemirror_mode": {
    "name": "ipython",
    "version": 3
   },
   "file_extension": ".py",
   "mimetype": "text/x-python",
   "name": "python",
   "nbconvert_exporter": "python",
   "pygments_lexer": "ipython3",
   "version": "3.9.9"
  }
 },
 "nbformat": 4,
 "nbformat_minor": 5
}
